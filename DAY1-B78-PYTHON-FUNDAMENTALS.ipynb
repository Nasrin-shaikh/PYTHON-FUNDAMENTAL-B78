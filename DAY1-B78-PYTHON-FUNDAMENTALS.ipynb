{
 "cells": [
  {
   "cell_type": "code",
   "execution_count": 1,
   "id": "d96effb4",
   "metadata": {},
   "outputs": [
    {
     "name": "stdout",
     "output_type": "stream",
     "text": [
      "My name is nasrin shaikh\n"
     ]
    }
   ],
   "source": [
    "print('My name is nasrin shaikh')"
   ]
  },
  {
   "cell_type": "code",
   "execution_count": 2,
   "id": "1aa314bd",
   "metadata": {},
   "outputs": [
    {
     "name": "stdout",
     "output_type": "stream",
     "text": [
      "sir i want to learn python language\n"
     ]
    }
   ],
   "source": [
    "print(\"sir i want to learn python language\")"
   ]
  },
  {
   "cell_type": "code",
   "execution_count": 3,
   "id": "b180782b",
   "metadata": {},
   "outputs": [
    {
     "name": "stdout",
     "output_type": "stream",
     "text": [
      "Because i want to get a job in II company\n"
     ]
    }
   ],
   "source": [
    "print(\"Because i want to get a job in II company\")"
   ]
  },
  {
   "cell_type": "code",
   "execution_count": null,
   "id": "47293e83",
   "metadata": {},
   "outputs": [],
   "source": []
  }
 ],
 "metadata": {
  "kernelspec": {
   "display_name": "Python 3 (ipykernel)",
   "language": "python",
   "name": "python3"
  },
  "language_info": {
   "codemirror_mode": {
    "name": "ipython",
    "version": 3
   },
   "file_extension": ".py",
   "mimetype": "text/x-python",
   "name": "python",
   "nbconvert_exporter": "python",
   "pygments_lexer": "ipython3",
   "version": "3.10.9"
  }
 },
 "nbformat": 4,
 "nbformat_minor": 5
}
